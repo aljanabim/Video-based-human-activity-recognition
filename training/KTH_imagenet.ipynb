{
 "cells": [
  {
   "cell_type": "code",
   "execution_count": 3,
   "metadata": {},
   "outputs": [],
   "source": [
    "import numpy as np\n",
    "import matplotlib.pyplot as plt\n",
    "import tensorflow as tf\n",
    "\n",
    "import os\n",
    "import sys\n",
    "sys.path.insert(0, os.path.dirname('../'))\n",
    "\n",
    "from data_utils import video_to_frames\n",
    "from data_utils import metadata_loader\n",
    "from data_utils.kth_dataset_builder import DatasetBuilder\n",
    "\n",
    "from models.IMAGENET import Imagenet, Video_Feature_Extractor \n",
    "from models.IMAGENET import AVG_Video_Classifier, LSTM_Video_Classifier"
   ]
  },
  {
   "cell_type": "markdown",
   "metadata": {},
   "source": [
    "# Load Dataset"
   ]
  },
  {
   "cell_type": "code",
   "execution_count": 5,
   "metadata": {},
   "outputs": [
    {
     "output_type": "error",
     "ename": "NameError",
     "evalue": "name 'train_dataset' is not defined",
     "traceback": [
      "\u001b[0;31m---------------------------------------------------------------------------\u001b[0m",
      "\u001b[0;31mNameError\u001b[0m                                 Traceback (most recent call last)",
      "\u001b[0;32m<ipython-input-5-f065b93bf7bd>\u001b[0m in \u001b[0;36m<module>\u001b[0;34m\u001b[0m\n\u001b[1;32m     21\u001b[0m     \u001b[0;32mreturn\u001b[0m \u001b[0mimage\u001b[0m\u001b[0;34m,\u001b[0m \u001b[0mlabel\u001b[0m\u001b[0;34m\u001b[0m\u001b[0;34m\u001b[0m\u001b[0m\n\u001b[1;32m     22\u001b[0m \u001b[0;34m\u001b[0m\u001b[0m\n\u001b[0;32m---> 23\u001b[0;31m \u001b[0mtrain_ds\u001b[0m \u001b[0;34m=\u001b[0m \u001b[0mtrain_dataset\u001b[0m\u001b[0;34m.\u001b[0m\u001b[0mmap\u001b[0m\u001b[0;34m(\u001b[0m\u001b[0mformat_example\u001b[0m\u001b[0;34m)\u001b[0m\u001b[0;34m\u001b[0m\u001b[0;34m\u001b[0m\u001b[0m\n\u001b[0m\u001b[1;32m     24\u001b[0m \u001b[0mvalid_ds\u001b[0m \u001b[0;34m=\u001b[0m \u001b[0mvalid_dataset\u001b[0m\u001b[0;34m.\u001b[0m\u001b[0mmap\u001b[0m\u001b[0;34m(\u001b[0m\u001b[0mformat_example\u001b[0m\u001b[0;34m)\u001b[0m\u001b[0;34m\u001b[0m\u001b[0;34m\u001b[0m\u001b[0m\n\u001b[1;32m     25\u001b[0m \u001b[0;34m\u001b[0m\u001b[0m\n",
      "\u001b[0;31mNameError\u001b[0m: name 'train_dataset' is not defined"
     ]
    }
   ],
   "source": [
    "# Setup builder\n",
    "video_path = '../data/kth-actions/video'\n",
    "frame_path = '../data/kth-actions/frame'\n",
    "builder = DatasetBuilder(video_path, frame_path, img_width=84, img_height=84, ms_per_frame=1000, max_frames=16)\n",
    "\n",
    "# Convert videos and generate metadata\n",
    "#builder.convert_videos_to_frames()\n",
    "metadata = builder.generate_metadata()\n",
    "\n",
    "# Build datasets\n",
    "train_ds = builder.make_video_dataset(metadata=metadata['train'])\n",
    "valid_ds = builder.make_video_dataset(metadata=metadata['valid'])\n",
    "\n",
    "# Preprocess dataset\n",
    "IMG_SIZE = 160 # All images will be resized to 160x160\n",
    "IMG_SHAPE = (IMG_SIZE, IMG_SIZE, 3)\n",
    "\n",
    "def format_example(image, label):\n",
    "    image = tf.repeat(image,3,axis=3)   \n",
    "    image = tf.image.resize(image, (IMG_SIZE, IMG_SIZE))\n",
    "    return image, label\n",
    "\n",
    "train_ds = train_ds.map(format_example)\n",
    "valid_ds = train_ds.map(format_example)\n",
    "\n",
    "# Print\n",
    "for x, lab in train_dataset.take(1):\n",
    "    print(x.shape, lab.shape)\n",
    "train_dataset"
   ]
  },
  {
   "cell_type": "markdown",
   "metadata": {},
   "source": [
    "# Transfer learning \n",
    "### For videos\n",
    "Below we show to ways how to do transfer learning based on a pretrained base model.\n",
    "The only part that should be changed is the one comming after video_fature_extractor. Below we show to ways how one can use an RNN(LSTM) or a simple MLP to do the job.\n",
    "\n",
    "### For images\n",
    "If we want to train with frames as input there is no feature_extractor necessary. We can put a classifier directly on top of the base model.\n",
    "In order to see how we do fine tuning chacke the **Transfer_learning.ipynb**"
   ]
  },
  {
   "cell_type": "markdown",
   "metadata": {},
   "source": [
    "## 1)RNN(LSTM) based classifier with Inception backbone"
   ]
  },
  {
   "cell_type": "code",
   "execution_count": 70,
   "metadata": {
    "scrolled": true
   },
   "outputs": [
    {
     "name": "stdout",
     "output_type": "stream",
     "text": [
      "Model: \"sequential_26\"\n",
      "_________________________________________________________________\n",
      "Layer (type)                 Output Shape              Param #   \n",
      "=================================================================\n",
      "time_distributed_13 (TimeDis (None, None, 1280)        2257984   \n",
      "_________________________________________________________________\n",
      "dense_35 (Dense)             (None, None, 128)         163968    \n",
      "_________________________________________________________________\n",
      "lstm_13 (LSTM)               (None, 128)               131584    \n",
      "_________________________________________________________________\n",
      "dense_37 (Dense)             (None, 6)                 774       \n",
      "=================================================================\n",
      "Total params: 2,554,310\n",
      "Trainable params: 296,326\n",
      "Non-trainable params: 2,257,984\n",
      "_________________________________________________________________\n",
      "(5, 6)\n"
     ]
    }
   ],
   "source": [
    "# Base model (returns pretrained frozen base model trained on Imagenet)\n",
    "inception = IMAGENET.Imagenet(input_shape=IMG_SHAPE, name='inception')\n",
    "\n",
    "# Feature Extractor (Has output (NR_FRAME x D) where D is feature dimension)\n",
    "featuer_ex = IMAGENET.Video_Feature_Extractor(inception)\n",
    "\n",
    "# LSTM Clasifier\n",
    "model = IMAGENET.LSTM_Video_Classifier(features=featuer_ex1, class_nr=6, optimizer=RMSprop(lr=0.0001))"
   ]
  },
  {
   "cell_type": "code",
   "execution_count": null,
   "metadata": {},
   "outputs": [],
   "source": [
    "model.fit(train_ds.shuffle(100).batch(5), validation_data=valid_ds.batch(5), epochs=5)"
   ]
  },
  {
   "cell_type": "code",
   "execution_count": 62,
   "metadata": {},
   "outputs": [
    {
     "name": "stdout",
     "output_type": "stream",
     "text": [
      "84/84 [==============================] - 152s 2s/step - loss: 1.8777 - accuracy: 0.1667\n"
     ]
    },
    {
     "data": {
      "text/plain": [
       "[1.8776769638061523, 0.1666666716337204]"
      ]
     },
     "execution_count": 62,
     "metadata": {},
     "output_type": "execute_result"
    }
   ],
   "source": [
    "model.evaluate(train_ds.batch(5))"
   ]
  },
  {
   "cell_type": "markdown",
   "metadata": {},
   "source": [
    "## 2)MLP classifier with Inception backbone"
   ]
  },
  {
   "cell_type": "code",
   "execution_count": 15,
   "metadata": {},
   "outputs": [
    {
     "name": "stdout",
     "output_type": "stream",
     "text": [
      "Model: \"sequential_9\"\n",
      "_________________________________________________________________\n",
      "Layer (type)                 Output Shape              Param #   \n",
      "=================================================================\n",
      "time_distributed_4 (TimeDist (None, None, 1280)        2257984   \n",
      "_________________________________________________________________\n",
      "global_average_pooling1d_4 ( (None, 1280)              0         \n",
      "_________________________________________________________________\n",
      "dense_12 (Dense)             (None, 128)               163968    \n",
      "_________________________________________________________________\n",
      "dense_14 (Dense)             (None, 6)                 774       \n",
      "=================================================================\n",
      "Total params: 2,422,726\n",
      "Trainable params: 164,742\n",
      "Non-trainable params: 2,257,984\n",
      "_________________________________________________________________\n",
      "(5, 6)\n"
     ]
    }
   ],
   "source": [
    "# Base model (returns pretrained frozen base model trained on Imagenet)\n",
    "inception = IMAGENET.Imagenet(name='inception')\n",
    "\n",
    "# Feature Extractor (Has output (NR_FRAME x D) where D is feature dimension)\n",
    "featuer_ex = IMAGENET.Video_Feature_Extractor(inception)\n",
    "\n",
    "# MLP Clasifier\n",
    "model = IMAGENET.AVG_Video_Classifier(features=featuer_ex1, class_nr=6, optimizer=RMSprop(lr=0.0001))"
   ]
  },
  {
   "cell_type": "code",
   "execution_count": null,
   "metadata": {},
   "outputs": [
    {
     "name": "stdout",
     "output_type": "stream",
     "text": [
      "Epoch 1/5\n",
      "84/84 [==============================] - 177s 2s/step - loss: 3.2566 - accuracy: 0.3310 - val_loss: 2.5058 - val_accuracy: 0.1667\n",
      "Epoch 2/5\n",
      "84/84 [==============================] - 171s 2s/step - loss: 2.1962 - accuracy: 0.2833 - val_loss: 2.2567 - val_accuracy: 0.1667\n",
      "Epoch 3/5\n",
      "84/84 [==============================] - 190s 2s/step - loss: 2.0396 - accuracy: 0.3524 - val_loss: 2.0086 - val_accuracy: 0.1667\n",
      "Epoch 4/5\n",
      "84/84 [==============================] - 212s 3s/step - loss: 1.7554 - accuracy: 0.3571 - val_loss: 2.7981 - val_accuracy: 0.1667\n",
      "Epoch 5/5\n",
      "37/84 [============>.................] - ETA: 1:31 - loss: 5.4898 - accuracy: 0.3351"
     ]
    }
   ],
   "source": [
    "model.fit(train_batches,validation_data=valid_batches, epochs=5)"
   ]
  },
  {
   "cell_type": "code",
   "execution_count": 9,
   "metadata": {},
   "outputs": [
    {
     "name": "stdout",
     "output_type": "stream",
     "text": [
      "18/18 [==============================] - 26s 1s/step - loss: 1.8728 - accuracy: 0.1667\n"
     ]
    },
    {
     "data": {
      "text/plain": [
       "[1.8728103637695312, 0.1666666716337204]"
      ]
     },
     "execution_count": 9,
     "metadata": {},
     "output_type": "execute_result"
    }
   ],
   "source": [
    "model.evaluate(valid_batches)"
   ]
  }
 ],
 "metadata": {
  "kernelspec": {
   "display_name": "Python 3",
   "language": "python",
   "name": "python3"
  },
  "language_info": {
   "codemirror_mode": {
    "name": "ipython",
    "version": 3
   },
   "file_extension": ".py",
   "mimetype": "text/x-python",
   "name": "python",
   "nbconvert_exporter": "python",
   "pygments_lexer": "ipython3",
   "version": "3.6.9-final"
  }
 },
 "nbformat": 4,
 "nbformat_minor": 2
}